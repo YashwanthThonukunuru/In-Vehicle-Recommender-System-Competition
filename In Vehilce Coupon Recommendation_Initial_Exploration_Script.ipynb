{
 "cells": [
  {
   "cell_type": "markdown",
   "id": "2c74a626",
   "metadata": {},
   "source": [
    "# **STATISTICAL AND MACHINE LEARNING: Group Project**\n",
    "\n"
   ]
  },
  {
   "attachments": {
    "IESEG%20Big.png": {
     "image/png": "[encoded data removed]"
    }
   },
   "cell_type": "markdown",
   "id": "a9fb0b35",
   "metadata": {},
   "source": [
    "![IESEG%20Big.png](attachment:IESEG%20Big.png)"
   ]
  },
  {
   "cell_type": "markdown",
   "id": "9ed1a90b",
   "metadata": {},
   "source": [
    "> **Fabrizio Lucero** [LinkedIn](https://www.linkedin.com/in/fabrizio-lucero/)\n",
    "<br>\n",
    "> **Yahswanth Thonukunuru** [LinkedIn](https://www.linkedin.com/in/yashwanth-thonukunuru-0b5253166/)\n",
    "<br>\n",
    "> **Eleftheria Zygomitrou** [LinkedIn](https://www.linkedin.com/in/eleftheria-zygomitrou/)"
   ]
  },
  {
   "cell_type": "markdown",
   "id": "6b6bc86c",
   "metadata": {},
   "source": [
    "The purpose of this notebook is to have a better understanding of our variables and exploring their 'weights'"
   ]
  },
  {
   "cell_type": "code",
   "execution_count": 1,
   "id": "0c927675",
   "metadata": {},
   "outputs": [],
   "source": [
    "# Libraries \n",
    "#preprocessing data\n",
    "import pandas as pd\n",
    "import numpy as np\n",
    "import datetime as dt\n",
    "import math \n",
    "import string\n",
    "from pandas import DataFrame\n",
    "from numpy import array\n",
    "from matplotlib import pyplot\n",
    "from collections import Counter\n",
    "from pandas import read_csv\n",
    "\n",
    "# visualization\n",
    "import matplotlib.pyplot as plt\n",
    "import plotly.express as px\n",
    "import seaborn as snsb\n",
    "\n",
    "from sklearn.model_selection import train_test_split\n",
    "from sklearn import preprocessing\n",
    "from sklearn.preprocessing import LabelEncoder\n",
    "\n",
    "import sys\n",
    "\n",
    "import warnings\n",
    "warnings.filterwarnings('ignore')\n",
    "import seaborn as sns\n",
    "import matplotlib.pyplot as plt"
   ]
  },
  {
   "cell_type": "code",
   "execution_count": 2,
   "id": "0c566c4a",
   "metadata": {},
   "outputs": [],
   "source": [
    "# Importing datasets\n",
    "driving_coupon_train = read_csv(\"driving_coupon_train.csv\")\n",
    "driving_coupon_test = read_csv(\"driving_coupon_test.csv\")"
   ]
  },
  {
   "cell_type": "markdown",
   "id": "e46c5797",
   "metadata": {},
   "source": [
    "### Descriptive of each variable"
   ]
  },
  {
   "cell_type": "code",
   "execution_count": 3,
   "id": "64c6ad41",
   "metadata": {},
   "outputs": [
    {
     "data": {
      "text/plain": [
       "Index(['client_id', 'destination', 'passanger', 'weather', 'temperature',\n",
       "       'time', 'coupon', 'expiration', 'gender', 'age', 'maritalStatus',\n",
       "       'has_children', 'education', 'occupation', 'income', 'car', 'Bar',\n",
       "       'CoffeeHouse', 'CarryAway', 'RestaurantLessThan20', 'Restaurant20To50',\n",
       "       'toCoupon_GEQ5min', 'toCoupon_GEQ15min', 'toCoupon_GEQ25min',\n",
       "       'direction_same', 'direction_opp', 'Y'],\n",
       "      dtype='object')"
      ]
     },
     "execution_count": 3,
     "metadata": {},
     "output_type": "execute_result"
    }
   ],
   "source": [
    "driving_coupon_train.columns"
   ]
  },
  {
   "cell_type": "code",
   "execution_count": 61,
   "id": "bf6ef77e",
   "metadata": {},
   "outputs": [
    {
     "name": "stdout",
     "output_type": "stream",
     "text": [
      "<class 'pandas.core.frame.DataFrame'>\n",
      "RangeIndex: 6667 entries, 0 to 6666\n",
      "Data columns (total 27 columns):\n",
      " #   Column                Non-Null Count  Dtype  \n",
      "---  ------                --------------  -----  \n",
      " 0   client_id             6667 non-null   int64  \n",
      " 1   destination           6318 non-null   object \n",
      " 2   passanger             6341 non-null   object \n",
      " 3   weather               6302 non-null   object \n",
      " 4   temperature           6333 non-null   float64\n",
      " 5   time                  6351 non-null   object \n",
      " 6   coupon                6367 non-null   object \n",
      " 7   expiration            6309 non-null   object \n",
      " 8   gender                6317 non-null   object \n",
      " 9   age                   6346 non-null   object \n",
      " 10  maritalStatus         6379 non-null   object \n",
      " 11  has_children          6343 non-null   float64\n",
      " 12  education             6332 non-null   object \n",
      " 13  occupation            6318 non-null   object \n",
      " 14  income                6320 non-null   object \n",
      " 15  car                   53 non-null     object \n",
      " 16  Bar                   6286 non-null   object \n",
      " 17  CoffeeHouse           6279 non-null   object \n",
      " 18  CarryAway             6239 non-null   object \n",
      " 19  RestaurantLessThan20  6247 non-null   object \n",
      " 20  Restaurant20To50      6217 non-null   object \n",
      " 21  toCoupon_GEQ5min      6329 non-null   float64\n",
      " 22  toCoupon_GEQ15min     6353 non-null   float64\n",
      " 23  toCoupon_GEQ25min     6348 non-null   float64\n",
      " 24  direction_same        6308 non-null   float64\n",
      " 25  direction_opp         6345 non-null   float64\n",
      " 26  Y                     6667 non-null   int64  \n",
      "dtypes: float64(7), int64(2), object(18)\n",
      "memory usage: 1.4+ MB\n"
     ]
    }
   ],
   "source": [
    "driving_coupon_train.info()"
   ]
  },
  {
   "cell_type": "markdown",
   "id": "d4920dee",
   "metadata": {},
   "source": [
    "#### destination"
   ]
  },
  {
   "cell_type": "code",
   "execution_count": 4,
   "id": "f9c72bdc",
   "metadata": {},
   "outputs": [
    {
     "data": {
      "text/plain": [
       "destination\n",
       "Home               0.500000\n",
       "No Urgent Place    0.634405\n",
       "Work               0.498101\n",
       "Name: Y, dtype: float64"
      ]
     },
     "execution_count": 4,
     "metadata": {},
     "output_type": "execute_result"
    }
   ],
   "source": [
    "driving_coupon_train.groupby(['destination'])['Y'].sum()/driving_coupon_train.groupby(['destination'])['Y'].count()"
   ]
  },
  {
   "cell_type": "markdown",
   "id": "849f8c49",
   "metadata": {},
   "source": [
    "#### passanger"
   ]
  },
  {
   "cell_type": "code",
   "execution_count": 5,
   "id": "6bd93146",
   "metadata": {},
   "outputs": [
    {
     "data": {
      "text/plain": [
       "passanger\n",
       "Alone        0.518669\n",
       "Friend(s)    0.678905\n",
       "Kid(s)       0.486653\n",
       "Partner      0.595281\n",
       "Name: Y, dtype: float64"
      ]
     },
     "execution_count": 5,
     "metadata": {},
     "output_type": "execute_result"
    }
   ],
   "source": [
    "driving_coupon_train.groupby(['passanger'])['Y'].sum()/driving_coupon_train.groupby(['passanger'])['Y'].count()"
   ]
  },
  {
   "cell_type": "code",
   "execution_count": 73,
   "id": "f0042b20",
   "metadata": {},
   "outputs": [
    {
     "data": {
      "image/png": "[encoded data removed]",
      "text/plain": [
       "<Figure size 432x288 with 1 Axes>"
      ]
     },
     "metadata": {
      "needs_background": "light"
     },
     "output_type": "display_data"
    }
   ],
   "source": [
    "# calculate the values\n",
    "values = driving_coupon_train.groupby(['passanger'])['Y'].sum()/driving_coupon_train.groupby(['passanger'])['Y'].count()\n",
    "\n",
    "# create bar plot\n",
    "sns.barplot(x=values.index, y=values, palette=sns.color_palette(\"mako\", len(values.index)))\n",
    "\n",
    "# # rotate x-axis labels\n",
    "# plt.xticks(rotation=60)\n",
    "\n",
    "# set labels and title\n",
    "plt.xlabel('Passenger')\n",
    "plt.ylabel('Average Y')\n",
    "plt.title('Importance of the variable \"passenger\" to the target variable')\n",
    "\n",
    "# display the plot\n",
    "plt.show()\n"
   ]
  },
  {
   "cell_type": "markdown",
   "id": "6b29ee7d",
   "metadata": {},
   "source": [
    "#### weather"
   ]
  },
  {
   "cell_type": "code",
   "execution_count": 6,
   "id": "58966c77",
   "metadata": {},
   "outputs": [
    {
     "data": {
      "text/plain": [
       "weather\n",
       "Rainy    0.444811\n",
       "Snowy    0.474692\n",
       "Sunny    0.592869\n",
       "Name: Y, dtype: float64"
      ]
     },
     "execution_count": 6,
     "metadata": {},
     "output_type": "execute_result"
    }
   ],
   "source": [
    "driving_coupon_train.groupby(['weather'])['Y'].sum()/driving_coupon_train.groupby(['weather'])['Y'].count()"
   ]
  },
  {
   "cell_type": "markdown",
   "id": "0de6bb01",
   "metadata": {},
   "source": [
    "#### temperature"
   ]
  },
  {
   "cell_type": "code",
   "execution_count": 7,
   "id": "6a32ed6b",
   "metadata": {},
   "outputs": [
    {
     "data": {
      "text/plain": [
       "temperature\n",
       "30.0    0.528919\n",
       "55.0    0.529843\n",
       "80.0    0.595046\n",
       "Name: Y, dtype: float64"
      ]
     },
     "execution_count": 7,
     "metadata": {},
     "output_type": "execute_result"
    }
   ],
   "source": [
    "driving_coupon_train.groupby(['temperature'])['Y'].sum()/driving_coupon_train.groupby(['temperature'])['Y'].count()"
   ]
  },
  {
   "cell_type": "markdown",
   "id": "4aa9eb81",
   "metadata": {},
   "source": [
    "#### time"
   ]
  },
  {
   "cell_type": "code",
   "execution_count": 8,
   "id": "15b3a92e",
   "metadata": {},
   "outputs": [
    {
     "data": {
      "text/plain": [
       "time\n",
       "10AM    0.604949\n",
       "10PM    0.502444\n",
       "2PM     0.653649\n",
       "6PM     0.580100\n",
       "7AM     0.494637\n",
       "Name: Y, dtype: float64"
      ]
     },
     "execution_count": 8,
     "metadata": {},
     "output_type": "execute_result"
    }
   ],
   "source": [
    "driving_coupon_train.groupby(['time'])['Y'].sum()/driving_coupon_train.groupby(['time'])['Y'].count()"
   ]
  },
  {
   "cell_type": "markdown",
   "id": "338b513a",
   "metadata": {},
   "source": [
    "#### coupon"
   ]
  },
  {
   "cell_type": "code",
   "execution_count": 9,
   "id": "d677b09b",
   "metadata": {},
   "outputs": [
    {
     "data": {
      "text/plain": [
       "coupon\n",
       "Bar                      0.394118\n",
       "Carry out & Take away    0.730927\n",
       "Coffee House             0.501790\n",
       "Restaurant(20-50)        0.423025\n",
       "Restaurant(<20)          0.705470\n",
       "Name: Y, dtype: float64"
      ]
     },
     "execution_count": 9,
     "metadata": {},
     "output_type": "execute_result"
    }
   ],
   "source": [
    "driving_coupon_train.groupby(['coupon'])['Y'].sum()/driving_coupon_train.groupby(['coupon'])['Y'].count()"
   ]
  },
  {
   "cell_type": "code",
   "execution_count": 74,
   "id": "092a28b1",
   "metadata": {},
   "outputs": [
    {
     "data": {
      "image/png": "[encoded data removed]",
      "text/plain": [
       "<Figure size 432x288 with 1 Axes>"
      ]
     },
     "metadata": {
      "needs_background": "light"
     },
     "output_type": "display_data"
    }
   ],
   "source": [
    "import seaborn as sns\n",
    "import matplotlib.pyplot as plt\n",
    "\n",
    "# calculate the values\n",
    "values = driving_coupon_train.groupby(['coupon'])['Y'].sum() / driving_coupon_train.groupby(['coupon'])['Y'].count()\n",
    "\n",
    "# set custom color palette\n",
    "custom_palette = sns.color_palette(\"YlOrBr\", len(values.index))\n",
    "\n",
    "# create bar plot with custom palette\n",
    "sns.barplot(x=values, y=values.index, palette=custom_palette)\n",
    "\n",
    "# set labels and title\n",
    "plt.ylabel('Coupon')\n",
    "plt.xlabel('Average Y')\n",
    "plt.title('Importance of Coupons to the target variable')\n",
    "\n",
    "# display the plot\n",
    "plt.show()\n"
   ]
  },
  {
   "cell_type": "markdown",
   "id": "167a631c",
   "metadata": {},
   "source": [
    "#### expiration"
   ]
  },
  {
   "cell_type": "code",
   "execution_count": 10,
   "id": "2c6f6947",
   "metadata": {},
   "outputs": [
    {
     "data": {
      "text/plain": [
       "expiration\n",
       "1d    0.620378\n",
       "2h    0.493492\n",
       "Name: Y, dtype: float64"
      ]
     },
     "execution_count": 10,
     "metadata": {},
     "output_type": "execute_result"
    }
   ],
   "source": [
    "driving_coupon_train.groupby(['expiration'])['Y'].sum()/driving_coupon_train.groupby(['expiration'])['Y'].count()"
   ]
  },
  {
   "cell_type": "code",
   "execution_count": 54,
   "id": "98fff0bf",
   "metadata": {},
   "outputs": [
    {
     "data": {
      "image/png": "[encoded data removed]",
      "text/plain": [
       "<Figure size 432x288 with 1 Axes>"
      ]
     },
     "metadata": {
      "needs_background": "light"
     },
     "output_type": "display_data"
    }
   ],
   "source": [
    "# calculate the values\n",
    "values = driving_coupon_train.groupby(['expiration'])['Y'].sum()/driving_coupon_train.groupby(['expiration'])['Y'].count()\n",
    "\n",
    "# create bar plot\n",
    "sns.barplot(x=values.index, y=values)\n",
    "\n",
    "# set labels and title\n",
    "plt.xlabel('Expiration')\n",
    "plt.ylabel('Average Y')\n",
    "plt.title('Importance of the expiration of the coupons to the target variable')\n",
    "\n",
    "# display the plot\n",
    "plt.show()"
   ]
  },
  {
   "cell_type": "markdown",
   "id": "04cde759",
   "metadata": {},
   "source": [
    "#### gender"
   ]
  },
  {
   "cell_type": "code",
   "execution_count": 11,
   "id": "3e4ed233",
   "metadata": {},
   "outputs": [
    {
     "data": {
      "text/plain": [
       "gender\n",
       "Female    0.542123\n",
       "Male      0.595391\n",
       "Name: Y, dtype: float64"
      ]
     },
     "execution_count": 11,
     "metadata": {},
     "output_type": "execute_result"
    }
   ],
   "source": [
    "driving_coupon_train.groupby(['gender'])['Y'].sum()/driving_coupon_train.groupby(['gender'])['Y'].count()"
   ]
  },
  {
   "cell_type": "markdown",
   "id": "0cab3fa4",
   "metadata": {},
   "source": [
    "#### age"
   ]
  },
  {
   "cell_type": "code",
   "execution_count": 12,
   "id": "779f79d3",
   "metadata": {},
   "outputs": [
    {
     "data": {
      "text/plain": [
       "age\n",
       "21         0.580692\n",
       "26         0.586570\n",
       "31         0.539652\n",
       "36         0.545455\n",
       "41         0.558394\n",
       "46         0.586207\n",
       "50plus     0.522272\n",
       "below21    0.661597\n",
       "Name: Y, dtype: float64"
      ]
     },
     "execution_count": 12,
     "metadata": {},
     "output_type": "execute_result"
    }
   ],
   "source": [
    "driving_coupon_train.groupby(['age'])['Y'].sum()/driving_coupon_train.groupby(['age'])['Y'].count()"
   ]
  },
  {
   "cell_type": "markdown",
   "id": "72c01a30",
   "metadata": {},
   "source": [
    "#### maritalStatus"
   ]
  },
  {
   "cell_type": "code",
   "execution_count": 13,
   "id": "ad1ef862",
   "metadata": {},
   "outputs": [
    {
     "data": {
      "text/plain": [
       "maritalStatus\n",
       "Divorced             0.575188\n",
       "Married partner      0.527745\n",
       "Single               0.605729\n",
       "Unmarried partner    0.559894\n",
       "Widowed              0.478873\n",
       "Name: Y, dtype: float64"
      ]
     },
     "execution_count": 13,
     "metadata": {},
     "output_type": "execute_result"
    }
   ],
   "source": [
    "driving_coupon_train.groupby(['maritalStatus'])['Y'].sum()/driving_coupon_train.groupby(['maritalStatus'])['Y'].count()"
   ]
  },
  {
   "cell_type": "markdown",
   "id": "7134a708",
   "metadata": {},
   "source": [
    "#### has_children"
   ]
  },
  {
   "cell_type": "code",
   "execution_count": 14,
   "id": "f220403e",
   "metadata": {},
   "outputs": [
    {
     "data": {
      "text/plain": [
       "has_children\n",
       "0.0    0.585650\n",
       "1.0    0.531177\n",
       "Name: Y, dtype: float64"
      ]
     },
     "execution_count": 14,
     "metadata": {},
     "output_type": "execute_result"
    }
   ],
   "source": [
    "driving_coupon_train.groupby(['has_children'])['Y'].sum()/driving_coupon_train.groupby(['has_children'])['Y'].count()"
   ]
  },
  {
   "cell_type": "markdown",
   "id": "22fe44b9",
   "metadata": {},
   "source": [
    "#### education"
   ]
  },
  {
   "cell_type": "code",
   "execution_count": 15,
   "id": "bc694ce6",
   "metadata": {},
   "outputs": [
    {
     "data": {
      "text/plain": [
       "education\n",
       "Associates degree                         0.532399\n",
       "Bachelors degree                          0.540225\n",
       "Graduate degree (Masters or Doctorate)    0.515323\n",
       "High School Graduate                      0.578475\n",
       "Some High School                          0.651163\n",
       "Some college - no degree                  0.608495\n",
       "Name: Y, dtype: float64"
      ]
     },
     "execution_count": 15,
     "metadata": {},
     "output_type": "execute_result"
    }
   ],
   "source": [
    "driving_coupon_train.groupby(['education'])['Y'].sum()/driving_coupon_train.groupby(['education'])['Y'].count()"
   ]
  },
  {
   "cell_type": "markdown",
   "id": "a0473344",
   "metadata": {},
   "source": [
    "#### occupation"
   ]
  },
  {
   "cell_type": "code",
   "execution_count": 16,
   "id": "870f711a",
   "metadata": {},
   "outputs": [
    {
     "data": {
      "text/plain": [
       "occupation\n",
       "Architecture & Engineering                   0.582524\n",
       "Arts Design Entertainment Sports & Media     0.515823\n",
       "Building & Grounds Cleaning & Maintenance    0.588235\n",
       "Business & Financial                         0.543919\n",
       "Community & Social Services                  0.472000\n",
       "Computer & Mathematical                      0.537911\n",
       "Construction & Extraction                    0.675325\n",
       "Education&Training&Library                   0.517857\n",
       "Farming Fishing & Forestry                   0.541667\n",
       "Food Preparation & Serving Related           0.573248\n",
       "Healthcare Practitioners & Technical         0.656000\n",
       "Healthcare Support                           0.689922\n",
       "Installation Maintenance & Repair            0.573529\n",
       "Legal                                        0.446429\n",
       "Life Physical Social Science                 0.621622\n",
       "Management                                   0.588542\n",
       "Office & Administrative Support              0.577713\n",
       "Personal Care & Service                      0.529412\n",
       "Production Occupations                       0.596491\n",
       "Protective Service                           0.666667\n",
       "Retired                                      0.500000\n",
       "Sales & Related                              0.570600\n",
       "Student                                      0.613776\n",
       "Transportation & Material Moving             0.645455\n",
       "Unemployed                                   0.530878\n",
       "Name: Y, dtype: float64"
      ]
     },
     "execution_count": 16,
     "metadata": {},
     "output_type": "execute_result"
    }
   ],
   "source": [
    "driving_coupon_train.groupby(['occupation'])['Y'].sum()/driving_coupon_train.groupby(['occupation'])['Y'].count()"
   ]
  },
  {
   "cell_type": "markdown",
   "id": "2b92b509",
   "metadata": {},
   "source": [
    "#### income"
   ]
  },
  {
   "cell_type": "code",
   "execution_count": 17,
   "id": "4f342fa7",
   "metadata": {},
   "outputs": [
    {
     "data": {
      "text/plain": [
       "income\n",
       "$100000 or More     0.577726\n",
       "$12500 - $24999     0.579176\n",
       "$25000 - $37499     0.593970\n",
       "$37500 - $49999     0.549042\n",
       "$50000 - $62499     0.609337\n",
       "$62500 - $74999     0.503513\n",
       "$75000 - $87499     0.465438\n",
       "$87500 - $99999     0.513514\n",
       "Less than $12500    0.594393\n",
       "Name: Y, dtype: float64"
      ]
     },
     "execution_count": 17,
     "metadata": {},
     "output_type": "execute_result"
    }
   ],
   "source": [
    "driving_coupon_train.groupby(['income'])['Y'].sum()/driving_coupon_train.groupby(['income'])['Y'].count()"
   ]
  },
  {
   "cell_type": "markdown",
   "id": "e9324f61",
   "metadata": {},
   "source": [
    "#### carr"
   ]
  },
  {
   "cell_type": "code",
   "execution_count": 18,
   "id": "b6b0d68c",
   "metadata": {},
   "outputs": [
    {
     "data": {
      "text/plain": [
       "car\n",
       "Car that is too old to install Onstar :D    0.777778\n",
       "Mazda5                                      0.727273\n",
       "Scooter and motorcycle                      0.555556\n",
       "crossover                                   0.416667\n",
       "do not drive                                0.416667\n",
       "Name: Y, dtype: float64"
      ]
     },
     "execution_count": 18,
     "metadata": {},
     "output_type": "execute_result"
    }
   ],
   "source": [
    "driving_coupon_train.groupby(['car'])['Y'].sum()/driving_coupon_train.groupby(['car'])['Y'].count()"
   ]
  },
  {
   "cell_type": "code",
   "execution_count": 76,
   "id": "9ec5a01f",
   "metadata": {},
   "outputs": [
    {
     "data": {
      "image/png": "[encoded data removed]",
      "text/plain": [
       "<Figure size 432x288 with 1 Axes>"
      ]
     },
     "metadata": {
      "needs_background": "light"
     },
     "output_type": "display_data"
    }
   ],
   "source": [
    "# calculate the values\n",
    "values = driving_coupon_train.groupby(['car'])['Y'].sum()/driving_coupon_train.groupby(['car'])['Y'].count()\n",
    "\n",
    "# set custom color palette\n",
    "custom_palette = sns.color_palette(\"viridis\", len(values.index))\n",
    "\n",
    "# create bar plot with custom palette\n",
    "sns.barplot(x=values, y=values.index, palette=custom_palette)\n",
    "\n",
    "# set labels and title\n",
    "plt.ylabel('Car')\n",
    "plt.xlabel('Average Y')\n",
    "plt.title('Importance of Cars to the target variable')\n",
    "\n",
    "# display the plot\n",
    "plt.show()\n"
   ]
  },
  {
   "cell_type": "markdown",
   "id": "0803c2bc",
   "metadata": {},
   "source": [
    "#### Bar"
   ]
  },
  {
   "cell_type": "code",
   "execution_count": 19,
   "id": "06d67085",
   "metadata": {},
   "outputs": [
    {
     "data": {
      "text/plain": [
       "Bar\n",
       "1~3      0.609240\n",
       "4~8      0.609756\n",
       "gt8      0.544944\n",
       "less1    0.565662\n",
       "never    0.528161\n",
       "Name: Y, dtype: float64"
      ]
     },
     "execution_count": 19,
     "metadata": {},
     "output_type": "execute_result"
    }
   ],
   "source": [
    "driving_coupon_train.groupby(['Bar'])['Y'].sum()/driving_coupon_train.groupby(['Bar'])['Y'].count()"
   ]
  },
  {
   "cell_type": "markdown",
   "id": "26ecb3fc",
   "metadata": {},
   "source": [
    "#### CoffeeHouse"
   ]
  },
  {
   "cell_type": "code",
   "execution_count": 20,
   "id": "e8f52d5e",
   "metadata": {},
   "outputs": [
    {
     "data": {
      "text/plain": [
       "CoffeeHouse\n",
       "1~3      0.647468\n",
       "4~8      0.640312\n",
       "gt8      0.584104\n",
       "less1    0.542120\n",
       "never    0.455446\n",
       "Name: Y, dtype: float64"
      ]
     },
     "execution_count": 20,
     "metadata": {},
     "output_type": "execute_result"
    }
   ],
   "source": [
    "driving_coupon_train.groupby(['CoffeeHouse'])['Y'].sum()/driving_coupon_train.groupby(['CoffeeHouse'])['Y'].count()"
   ]
  },
  {
   "cell_type": "markdown",
   "id": "6120fdac",
   "metadata": {},
   "source": [
    "#### CarryAway"
   ]
  },
  {
   "cell_type": "code",
   "execution_count": 21,
   "id": "a6b9c23c",
   "metadata": {},
   "outputs": [
    {
     "data": {
      "text/plain": [
       "CarryAway\n",
       "1~3      0.564523\n",
       "4~8      0.585040\n",
       "gt8      0.559449\n",
       "less1    0.509554\n",
       "never    0.512195\n",
       "Name: Y, dtype: float64"
      ]
     },
     "execution_count": 21,
     "metadata": {},
     "output_type": "execute_result"
    }
   ],
   "source": [
    "driving_coupon_train.groupby(['CarryAway'])['Y'].sum()/driving_coupon_train.groupby(['CarryAway'])['Y'].count()"
   ]
  },
  {
   "cell_type": "markdown",
   "id": "e9b55603",
   "metadata": {},
   "source": [
    "#### RestaurantLessThan20"
   ]
  },
  {
   "cell_type": "code",
   "execution_count": 22,
   "id": "875a6745",
   "metadata": {},
   "outputs": [
    {
     "data": {
      "text/plain": [
       "RestaurantLessThan20\n",
       "1~3      0.558456\n",
       "4~8      0.576490\n",
       "gt8      0.612557\n",
       "less1    0.526912\n",
       "never    0.473684\n",
       "Name: Y, dtype: float64"
      ]
     },
     "execution_count": 22,
     "metadata": {},
     "output_type": "execute_result"
    }
   ],
   "source": [
    "driving_coupon_train.groupby(['RestaurantLessThan20'])['Y'].sum()/driving_coupon_train.groupby(['RestaurantLessThan20'])['Y'].count()"
   ]
  },
  {
   "cell_type": "markdown",
   "id": "e133b7a2",
   "metadata": {},
   "source": [
    "#### Restaurant20To50"
   ]
  },
  {
   "cell_type": "code",
   "execution_count": 23,
   "id": "816874d0",
   "metadata": {},
   "outputs": [
    {
     "data": {
      "text/plain": [
       "Restaurant20To50\n",
       "1~3      0.597162\n",
       "4~8      0.625000\n",
       "gt8      0.669118\n",
       "less1    0.554108\n",
       "never    0.506375\n",
       "Name: Y, dtype: float64"
      ]
     },
     "execution_count": 23,
     "metadata": {},
     "output_type": "execute_result"
    }
   ],
   "source": [
    "driving_coupon_train.groupby(['Restaurant20To50'])['Y'].sum()/driving_coupon_train.groupby(['Restaurant20To50'])['Y'].count()"
   ]
  },
  {
   "cell_type": "markdown",
   "id": "c778dafa",
   "metadata": {},
   "source": [
    "#### toCoupon_GEQ5min"
   ]
  },
  {
   "cell_type": "code",
   "execution_count": 24,
   "id": "16582da0",
   "metadata": {},
   "outputs": [
    {
     "data": {
      "text/plain": [
       "toCoupon_GEQ5min\n",
       "1.0    0.564702\n",
       "Name: Y, dtype: float64"
      ]
     },
     "execution_count": 24,
     "metadata": {},
     "output_type": "execute_result"
    }
   ],
   "source": [
    "driving_coupon_train.groupby(['toCoupon_GEQ5min'])['Y'].sum()/driving_coupon_train.groupby(['toCoupon_GEQ5min'])['Y'].count()"
   ]
  },
  {
   "cell_type": "code",
   "execution_count": 25,
   "id": "1e63ea87",
   "metadata": {},
   "outputs": [
    {
     "name": "stdout",
     "output_type": "stream",
     "text": [
      "<class 'pandas.core.series.Series'>\n",
      "RangeIndex: 6667 entries, 0 to 6666\n",
      "Series name: toCoupon_GEQ5min\n",
      "Non-Null Count  Dtype  \n",
      "--------------  -----  \n",
      "6329 non-null   float64\n",
      "dtypes: float64(1)\n",
      "memory usage: 52.2 KB\n"
     ]
    }
   ],
   "source": [
    "driving_coupon_train['toCoupon_GEQ5min'].info()"
   ]
  },
  {
   "cell_type": "code",
   "execution_count": 26,
   "id": "3bec6a68",
   "metadata": {},
   "outputs": [
    {
     "data": {
      "text/plain": [
       "338"
      ]
     },
     "execution_count": 26,
     "metadata": {},
     "output_type": "execute_result"
    }
   ],
   "source": [
    "driving_coupon_train['toCoupon_GEQ5min'].isnull().sum()"
   ]
  },
  {
   "cell_type": "markdown",
   "id": "45f0344e",
   "metadata": {},
   "source": [
    "#### toCoupon_GEQ15min"
   ]
  },
  {
   "cell_type": "code",
   "execution_count": 27,
   "id": "7e5d90bb",
   "metadata": {},
   "outputs": [
    {
     "data": {
      "text/plain": [
       "toCoupon_GEQ15min\n",
       "0.0    0.611685\n",
       "1.0    0.525663\n",
       "Name: Y, dtype: float64"
      ]
     },
     "execution_count": 27,
     "metadata": {},
     "output_type": "execute_result"
    }
   ],
   "source": [
    "driving_coupon_train.groupby(['toCoupon_GEQ15min'])['Y'].sum()/driving_coupon_train.groupby(['toCoupon_GEQ15min'])['Y'].count()"
   ]
  },
  {
   "cell_type": "markdown",
   "id": "e7d2cf84",
   "metadata": {},
   "source": [
    "#### toCoupon_GEQ25min"
   ]
  },
  {
   "cell_type": "code",
   "execution_count": 28,
   "id": "8ec70d4c",
   "metadata": {},
   "outputs": [
    {
     "data": {
      "text/plain": [
       "toCoupon_GEQ25min\n",
       "0.0    0.584513\n",
       "1.0    0.422627\n",
       "Name: Y, dtype: float64"
      ]
     },
     "execution_count": 28,
     "metadata": {},
     "output_type": "execute_result"
    }
   ],
   "source": [
    "driving_coupon_train.groupby(['toCoupon_GEQ25min'])['Y'].sum()/driving_coupon_train.groupby(['toCoupon_GEQ25min'])['Y'].count()"
   ]
  },
  {
   "cell_type": "markdown",
   "id": "d719372b",
   "metadata": {},
   "source": [
    "#### direction_same"
   ]
  },
  {
   "cell_type": "code",
   "execution_count": 29,
   "id": "bfaa07fc",
   "metadata": {},
   "outputs": [
    {
     "data": {
      "text/plain": [
       "direction_same\n",
       "0.0    0.564389\n",
       "1.0    0.576616\n",
       "Name: Y, dtype: float64"
      ]
     },
     "execution_count": 29,
     "metadata": {},
     "output_type": "execute_result"
    }
   ],
   "source": [
    "driving_coupon_train.groupby(['direction_same'])['Y'].sum()/driving_coupon_train.groupby(['direction_same'])['Y'].count()"
   ]
  },
  {
   "cell_type": "markdown",
   "id": "b198bdbd",
   "metadata": {},
   "source": [
    "#### direction_opp"
   ]
  },
  {
   "cell_type": "code",
   "execution_count": 30,
   "id": "9de8a763",
   "metadata": {},
   "outputs": [
    {
     "data": {
      "text/plain": [
       "direction_opp\n",
       "0.0    0.575560\n",
       "1.0    0.561064\n",
       "Name: Y, dtype: float64"
      ]
     },
     "execution_count": 30,
     "metadata": {},
     "output_type": "execute_result"
    }
   ],
   "source": [
    "driving_coupon_train.groupby(['direction_opp'])['Y'].sum()/driving_coupon_train.groupby(['direction_opp'])['Y'].count()"
   ]
  }
 ],
 "metadata": {
  "kernelspec": {
   "display_name": "Python 3 (ipykernel)",
   "language": "python",
   "name": "python3"
  },
  "language_info": {
   "codemirror_mode": {
    "name": "ipython",
    "version": 3
   },
   "file_extension": ".py",
   "mimetype": "text/x-python",
   "name": "python",
   "nbconvert_exporter": "python",
   "pygments_lexer": "ipython3",
   "version": "3.9.12"
  }
 },
 "nbformat": 4,
 "nbformat_minor": 5
}
